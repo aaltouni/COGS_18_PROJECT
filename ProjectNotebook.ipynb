{
 "cells": [
  {
   "cell_type": "markdown",
   "metadata": {},
   "source": [
    "# Project Description"
   ]
  },
  {
   "cell_type": "markdown",
   "metadata": {},
   "source": [
    "I was diagnosed with Ulcerative Colitis in 2019. Due to the COVID-19 pandemic, many doctors are using TeleHealth and conducting visits via zoom. Before COVID-19, patients would likely fill out a symptom questionnaire/screening in the waiting room of their doctor's office. I decided to make a chat bot in which patients can use to answer questions regarding their symptoms while waiting in the virtual waiting room for the doctor to speak with them next. This questionnaire / symptom screening is designed for someone who is experiencing gastrointestinal concerns and is waiting to speak to a Gastrointestinal Doctor about it. I designed the questions based off of the questions I was asked countless amounts of times at each doctor's or emergency room visit. "
   ]
  },
  {
   "cell_type": "markdown",
   "metadata": {},
   "source": [
    "## Project Code\n",
    "\n",
    "If it makes sense for your project, you can have code and outputs here in the notebook as well."
   ]
  },
  {
   "cell_type": "code",
   "execution_count": 1,
   "metadata": {},
   "outputs": [],
   "source": [
    "import string\n",
    "import random\n",
    "import nltk\n",
    "import pytest "
   ]
  },
  {
   "cell_type": "code",
   "execution_count": 2,
   "metadata": {},
   "outputs": [
    {
     "name": "stdout",
     "output_type": "stream",
     "text": [
      "\u001b[1m============================= test session starts ==============================\u001b[0m\n",
      "platform linux -- Python 3.9.5, pytest-6.2.5, py-1.10.0, pluggy-1.0.0\n",
      "rootdir: /home/aaltouni/Project_COGS18_FA21\n",
      "plugins: anyio-3.2.1\n",
      "collected 0 items / 1 error                                                    \u001b[0m\n",
      "\n",
      "==================================== ERRORS ====================================\n",
      "\u001b[31m\u001b[1m_________________ ERROR collecting my_module/test_functions.py _________________\u001b[0m\n",
      "\u001b[1m\u001b[31mmy_module/test_functions.py\u001b[0m:4: in <module>\n",
      "    \u001b[94mfrom\u001b[39;49;00m \u001b[04m\u001b[96mmy_functions\u001b[39;49;00m \u001b[94mimport\u001b[39;49;00m yes_or_no, freq_of_symptoms, pain_scale\n",
      "\u001b[1m\u001b[31mmy_module/my_functions.py\u001b[0m:21: in <module>\n",
      "    yes_or_no(chat_bot)\n",
      "\u001b[1m\u001b[31mE   NameError: name 'chat_bot' is not defined\u001b[0m\n",
      "=========================== short test summary info ============================\n",
      "ERROR my_module/test_functions.py - NameError: name 'chat_bot' is not defined\n",
      "!!!!!!!!!!!!!!!!!!!! Interrupted: 1 error during collection !!!!!!!!!!!!!!!!!!!!\n",
      "\u001b[31m=============================== \u001b[31m\u001b[1m1 error\u001b[0m\u001b[31m in 0.12s\u001b[0m\u001b[31m ===============================\u001b[0m\n"
     ]
    }
   ],
   "source": [
    "!pytest ../Project_COGS18_FA21/my_module/test_functions.py"
   ]
  },
  {
   "cell_type": "code",
   "execution_count": 3,
   "metadata": {},
   "outputs": [],
   "source": [
    "#this cell contains lists which consist of possible chat bot responses to the questions in the symptom screening\n",
    "yes_responses = [\"Okay.\", \"Sorry to hear that.\", \"The doctor will address that concern with you.\", \"I'll take note of that for the doctor.\", \"I will make sure the doctor is aware of that.\", \"I am sorry to hear that, but rest assured you are in good hands.\", \"The doctor will discuss this with you.\", \"Okay, let's move on.\"]\n",
    "no_responses = [\"Okay.\", \"I'll take note of that for the doctor.\", \"Good to hear that, let's continue.\", \"Okay, let's move on.\", \"I'll take note of that for the doctor.\", \"Great, let's move on to your next question.\"]\n",
    "high_pain_responses = [\"That sounds painful, I'm sorry to hear that.\", \"I will let the doctor know you're in pain.\", \"The doctor will figure out how to manage your pain soon.\"]\n",
    "low_pain_responses = [\"Although you may be experiencing some pain, I am glad it is not excruciating.\", \"You're one of the lucky ones!\", \"I'll make note of this for the doctor.\"]"
   ]
  },
  {
   "cell_type": "code",
   "execution_count": 4,
   "metadata": {},
   "outputs": [
    {
     "name": "stdout",
     "output_type": "stream",
     "text": [
      "Hello, I am your doctor's virtual assistant! You are here because you have been experiencing some gastrointestinal   concerns. Your doctor will see you shortly, but they would like for you to respond to some questions that I will be taking note of for them! Throughout the entirety of this questionnaire, if your answer is yes, please respond with 'Y' and if your answer is no, please respond with 'N'. Are you ready to begin your questionnaire? Y\n"
     ]
    }
   ],
   "source": [
    "#this cell introduces the chatbot and allows for user to start the questionnaire\n",
    "chat_bot = input(\"Hello, I am your doctor's virtual assistant! You are here because you have been experiencing some gastrointestinal   concerns. Your doctor will see you shortly, but they would like for you to respond to some questions that I will be taking note of for them! Throughout the entirety of this questionnaire, if your answer is yes, please respond with 'Y' and if your answer is no, please respond with 'N'. Are you ready to begin your questionnaire? \")"
   ]
  },
  {
   "cell_type": "code",
   "execution_count": 5,
   "metadata": {},
   "outputs": [
    {
     "name": "stdout",
     "output_type": "stream",
     "text": [
      "Great, let's get started!\n"
     ]
    }
   ],
   "source": [
    "if chat_bot == \"Y\": #if the user responsed Yes\n",
    "    print(\"Great, let's get started!\") #it will print this\n",
    "else: #if they respononded No or anything else\n",
    "    print(\"Oh no, come back when you are ready to answer questions!\") #it will return this print statement"
   ]
  },
  {
   "cell_type": "code",
   "execution_count": 6,
   "metadata": {},
   "outputs": [
    {
     "name": "stdout",
     "output_type": "stream",
     "text": [
      "Let's begin with some family history. Has anyone in your family ever been diagnosed with IBD or colon cancer? N\n"
     ]
    }
   ],
   "source": [
    "#this cell officially begins the symptom questionnaire \n",
    "chat_bot = input(\"Let's begin with some family history. Has anyone in your family ever been diagnosed with IBD or colon cancer? \")"
   ]
  },
  {
   "cell_type": "code",
   "execution_count": 7,
   "metadata": {},
   "outputs": [
    {
     "data": {
      "text/plain": [
       "\"I'll take note of that for the doctor.\""
      ]
     },
     "execution_count": 7,
     "metadata": {},
     "output_type": "execute_result"
    }
   ],
   "source": [
    "def yes_or_no(answ): \n",
    "    \"\"\"Generates a random response based on the user's response to a yes or no question.\n",
    "     \n",
    "    Parameters\n",
    "    ----------\n",
    "    answ : string\n",
    "        User's answer \n",
    "        \n",
    "    Returns\n",
    "    -------\n",
    "     random.choice of a yes or no response : string\n",
    "        String containing a random response based on the user's response.\n",
    "    \"\"\" \n",
    "    \n",
    "    if chat_bot == \"Y\":\n",
    "        return(random.choice(yes_responses))\n",
    "    else:\n",
    "        return(random.choice(no_responses))\n",
    "        \n",
    "yes_or_no(chat_bot)"
   ]
  },
  {
   "cell_type": "markdown",
   "metadata": {},
   "source": [
    "## Because the Pytest did not run, I am testing with the assert in the following cell (1)"
   ]
  },
  {
   "cell_type": "code",
   "execution_count": 8,
   "metadata": {},
   "outputs": [],
   "source": [
    "assert callable(yes_or_no)\n",
    "assert chat_bot == \"Y\" or chat_bot == \"N\"\n",
    "assert isinstance(chat_bot , str)"
   ]
  },
  {
   "cell_type": "code",
   "execution_count": 9,
   "metadata": {},
   "outputs": [
    {
     "name": "stdout",
     "output_type": "stream",
     "text": [
      "Have you been experiencing unexplained loose stools or diarrhea? Y\n"
     ]
    },
    {
     "data": {
      "text/plain": [
       "'Sorry to hear that.'"
      ]
     },
     "execution_count": 9,
     "metadata": {},
     "output_type": "execute_result"
    }
   ],
   "source": [
    "chat_bot = input(\"Have you been experiencing unexplained loose stools or diarrhea? \")\n",
    "yes_or_no(chat_bot)"
   ]
  },
  {
   "cell_type": "code",
   "execution_count": 10,
   "metadata": {},
   "outputs": [
    {
     "name": "stdout",
     "output_type": "stream",
     "text": [
      "Have you recently experienced significant weight loss? Y\n"
     ]
    },
    {
     "data": {
      "text/plain": [
       "\"Okay, let's move on.\""
      ]
     },
     "execution_count": 10,
     "metadata": {},
     "output_type": "execute_result"
    }
   ],
   "source": [
    "chat_bot = input(\"Have you recently experienced significant weight loss? \")\n",
    "yes_or_no(chat_bot)"
   ]
  },
  {
   "cell_type": "code",
   "execution_count": 11,
   "metadata": {},
   "outputs": [
    {
     "name": "stdout",
     "output_type": "stream",
     "text": [
      "Have you been feeling more fatigued than usual? Y\n"
     ]
    },
    {
     "data": {
      "text/plain": [
       "'The doctor will address that concern with you.'"
      ]
     },
     "execution_count": 11,
     "metadata": {},
     "output_type": "execute_result"
    }
   ],
   "source": [
    "chat_bot = input(\"Have you been feeling more fatigued than usual? \")\n",
    "yes_or_no(chat_bot)"
   ]
  },
  {
   "cell_type": "code",
   "execution_count": 12,
   "metadata": {},
   "outputs": [
    {
     "name": "stdout",
     "output_type": "stream",
     "text": [
      "If you have been experiencing loose stools or diarrhea, approximately how many days a week do you experience loose stools or diarrhea? If you do not experience loose stools or diarrhea, please respond with '0'. 5\n"
     ]
    }
   ],
   "source": [
    "chat_bot = int(input(\"If you have been experiencing loose stools or diarrhea, approximately how many days a week do you experience loose stools or diarrhea? If you do not experience loose stools or diarrhea, please respond with '0'. \"))"
   ]
  },
  {
   "cell_type": "code",
   "execution_count": 13,
   "metadata": {},
   "outputs": [
    {
     "name": "stdout",
     "output_type": "stream",
     "text": [
      "Okay.\n"
     ]
    }
   ],
   "source": [
    "def freq_of_symptoms(num_a_week):\n",
    "    \"\"\"Generates a random response based on the number of days the user experiences symptoms in a given week.\n",
    "    \n",
    "    Parameters\n",
    "    ----------\n",
    "    num_a_week : int\n",
    "        User's answer \n",
    "        \n",
    "    Returns\n",
    "    -------\n",
    "     random.choice of a yes or no response : string\n",
    "         String containg a random response, unless the user responds with amount of days that exceed the number of\n",
    "         days in a week, then the function will return a different message.\n",
    "    \"\"\" \n",
    "\n",
    "    if chat_bot > 3 and chat_bot <= 7:\n",
    "        print(random.choice(yes_responses))\n",
    "    elif chat_bot > 7:\n",
    "        print(\"This is not a valid answer, please try again. \")\n",
    "    else:\n",
    "        print(random.choice(no_responses))\n",
    "freq_of_symptoms(chat_bot)"
   ]
  },
  {
   "cell_type": "markdown",
   "metadata": {},
   "source": [
    "## Because the Pytest did not run, I am testing with the assert in the following cell (2)"
   ]
  },
  {
   "cell_type": "code",
   "execution_count": 14,
   "metadata": {},
   "outputs": [],
   "source": [
    "assert isinstance(chat_bot , int)\n",
    "assert callable(freq_of_symptoms)\n",
    "assert chat_bot != str "
   ]
  },
  {
   "cell_type": "markdown",
   "metadata": {},
   "source": [
    "### Moving onto the next few questions..."
   ]
  },
  {
   "cell_type": "code",
   "execution_count": 15,
   "metadata": {},
   "outputs": [
    {
     "name": "stdout",
     "output_type": "stream",
     "text": [
      "Have you had an unexplained fever lasting more than a day or two? N\n"
     ]
    },
    {
     "data": {
      "text/plain": [
       "'Okay.'"
      ]
     },
     "execution_count": 15,
     "metadata": {},
     "output_type": "execute_result"
    }
   ],
   "source": [
    "chat_bot = input(\"Have you had an unexplained fever lasting more than a day or two? \")\n",
    "yes_or_no(chat_bot)"
   ]
  },
  {
   "cell_type": "code",
   "execution_count": 16,
   "metadata": {},
   "outputs": [
    {
     "name": "stdout",
     "output_type": "stream",
     "text": [
      "Do you feel as though you have an inability to empty your bowels? Y\n"
     ]
    },
    {
     "data": {
      "text/plain": [
       "'The doctor will address that concern with you.'"
      ]
     },
     "execution_count": 16,
     "metadata": {},
     "output_type": "execute_result"
    }
   ],
   "source": [
    "chat_bot = input(\"Do you feel as though you have an inability to empty your bowels? \")\n",
    "yes_or_no(chat_bot)"
   ]
  },
  {
   "cell_type": "code",
   "execution_count": 17,
   "metadata": {},
   "outputs": [
    {
     "name": "stdout",
     "output_type": "stream",
     "text": [
      "Do you experience urgency to defecate? Y\n"
     ]
    },
    {
     "data": {
      "text/plain": [
       "'Sorry to hear that.'"
      ]
     },
     "execution_count": 17,
     "metadata": {},
     "output_type": "execute_result"
    }
   ],
   "source": [
    "chat_bot = input(\"Do you experience urgency to defecate? \")\n",
    "yes_or_no(chat_bot)"
   ]
  },
  {
   "cell_type": "code",
   "execution_count": 18,
   "metadata": {},
   "outputs": [
    {
     "name": "stdout",
     "output_type": "stream",
     "text": [
      "Is there any blood in the stool? Y\n"
     ]
    },
    {
     "data": {
      "text/plain": [
       "\"I'll take note of that for the doctor.\""
      ]
     },
     "execution_count": 18,
     "metadata": {},
     "output_type": "execute_result"
    }
   ],
   "source": [
    "chat_bot = input(\"Is there any blood in the stool? \")\n",
    "yes_or_no(chat_bot)"
   ]
  },
  {
   "cell_type": "code",
   "execution_count": 19,
   "metadata": {},
   "outputs": [
    {
     "name": "stdout",
     "output_type": "stream",
     "text": [
      "Do you experience abdominal pain or cramping? Y\n"
     ]
    },
    {
     "data": {
      "text/plain": [
       "'The doctor will address that concern with you.'"
      ]
     },
     "execution_count": 19,
     "metadata": {},
     "output_type": "execute_result"
    }
   ],
   "source": [
    "chat_bot = input(\"Do you experience abdominal pain or cramping? \")\n",
    "yes_or_no(chat_bot)"
   ]
  },
  {
   "cell_type": "code",
   "execution_count": 20,
   "metadata": {},
   "outputs": [
    {
     "name": "stdout",
     "output_type": "stream",
     "text": [
      "If you see any blood in your stool, approximately how many times a week do you see the blood? If you do not experience blood, please respond with '0'. 4\n",
      "I will make sure the doctor is aware of that.\n"
     ]
    }
   ],
   "source": [
    "#this cell addresses the frequency of the user's symptom\n",
    "chat_bot = int(input(\"If you see any blood in your stool, approximately how many times a week do you see the blood? If you do not experience blood, please respond with '0'. \"))\n",
    "freq_of_symptoms(chat_bot)"
   ]
  },
  {
   "cell_type": "code",
   "execution_count": 22,
   "metadata": {},
   "outputs": [
    {
     "name": "stdout",
     "output_type": "stream",
     "text": [
      "If you answered yes to experiencing abdominal pain or cramping, how would you rate your pain on a scale of 1 to 10, with 1 being no pain and 10 being the worst pain. Respond with '1' if you responded no to the previous question. 7\n"
     ]
    }
   ],
   "source": [
    "from my_module import pain_scale"
   ]
  },
  {
   "cell_type": "code",
   "execution_count": 23,
   "metadata": {
    "scrolled": true
   },
   "outputs": [
    {
     "data": {
      "text/plain": [
       "\"I'll make note of this for the doctor.\""
      ]
     },
     "execution_count": 23,
     "metadata": {},
     "output_type": "execute_result"
    }
   ],
   "source": [
    "def pain_scale(num):\n",
    "    \"\"\"Generates a random response based on the user's pain level using a pain scale.\n",
    "     \n",
    "     Parameters\n",
    "     ----------\n",
    "     num : int\n",
    "         User's pain level \n",
    "        \n",
    "     Returns\n",
    "     -------\n",
    "      random.choice of a pain response : string\n",
    "         String containing a random response based on the user's pain level, unless the user responds with a number that exceeds\n",
    "         the pain scale, then the function returns a different response.\n",
    "         \"\"\"\n",
    "        \n",
    "    if int(chat_bot) >= 6 and int(chat_bot) <= 10:\n",
    "        return(random.choice(high_pain_responses))\n",
    "    elif int(chat_bot) > 10:\n",
    "        print(\"Wow, that sounds painful, but please rate your pain using a scale from 1 to 10. \")\n",
    "    else:\n",
    "        return(random.choice(low_pain_responses))\n",
    "\n",
    "pain_scale(int(chat_bot))"
   ]
  },
  {
   "cell_type": "markdown",
   "metadata": {},
   "source": [
    "## Because the Pytest did not run, I am testing with the assert in the following cell (3)"
   ]
  },
  {
   "cell_type": "code",
   "execution_count": 24,
   "metadata": {},
   "outputs": [],
   "source": [
    "assert callable(pain_scale)\n",
    "assert chat_bot != str\n",
    "assert isinstance(chat_bot , int)"
   ]
  },
  {
   "cell_type": "code",
   "execution_count": 25,
   "metadata": {},
   "outputs": [
    {
     "name": "stdout",
     "output_type": "stream",
     "text": [
      "This is the end of your virtual symptom screening. Your doctor will read everything I have noted for them regarding your symtpoms and they will discuss them with you shortly in order to give you an official diagnosis. In the meantime, if you believe you may have Ulcerative Colitis or want to know more about the available and trusted resources, the doctor would like for you to check out these links: \n",
      "__________________________________________________________________________________________________\n",
      "What is Ulcerative Colitis? : https://www.crohnscolitisfoundation.org/what-is-ulcerative-colitis\n",
      "Diet and Nutrition : https://www.crohnscolitisfoundation.org/diet-and-nutrition\n",
      "Find Mental and Emotional Support : https://www.crohnscolitisfoundation.org/mental-health\n"
     ]
    }
   ],
   "source": [
    "#this cell concludes the questionnaire and provides helpful resources to the user\n",
    "chat_bot = \"This is the end of your virtual symptom screening. Your doctor will read everything I have noted for them regarding your symtpoms and they will discuss them with you shortly in order to give you an official diagnosis. In the meantime, if you believe you may have Ulcerative Colitis or want to know more about the available and trusted resources, the doctor would like for you to check out these links: \"\n",
    "print(chat_bot)\n",
    "\n",
    "print(\"__________________________________________________________________________________________________\")\n",
    "helpful_resources = {\"What is Ulcerative Colitis?\": \"https://www.crohnscolitisfoundation.org/what-is-ulcerative-colitis\", \"Diet and Nutrition\" : \"https://www.crohnscolitisfoundation.org/diet-and-nutrition\", \"Find Mental and Emotional Support\" : \"https://www.crohnscolitisfoundation.org/mental-health\"}\n",
    "for key, value in helpful_resources.items():\n",
    "    print(key, ':', value)"
   ]
  }
 ],
 "metadata": {
  "kernelspec": {
   "display_name": "Python 3 (ipykernel)",
   "language": "python",
   "name": "python3"
  },
  "language_info": {
   "codemirror_mode": {
    "name": "ipython",
    "version": 3
   },
   "file_extension": ".py",
   "mimetype": "text/x-python",
   "name": "python",
   "nbconvert_exporter": "python",
   "pygments_lexer": "ipython3",
   "version": "3.9.5"
  }
 },
 "nbformat": 4,
 "nbformat_minor": 2
}
